{
 "cells": [
  {
   "cell_type": "markdown",
   "id": "ea448358-4a34-4714-bea1-d350625e9423",
   "metadata": {},
   "source": [
    "# Day 2 - Python Essentials\n",
    "Author: Laura\n",
    "Date: 2025-08-28\n"
   ]
  },
  {
   "cell_type": "code",
   "execution_count": 1,
   "id": "b44cf43b-f40e-4a7d-b948-47282019d0b4",
   "metadata": {},
   "outputs": [
    {
     "name": "stdout",
     "output_type": "stream",
     "text": [
      "Laura 30 1.71\n"
     ]
    }
   ],
   "source": [
    "# Day 1 Recap: Variables \n",
    "name = \"Laura\"\n",
    "age = 30 \n",
    "height_m = 1.71\n",
    "\n",
    "print(name, age, height_m)\n"
   ]
  },
  {
   "cell_type": "code",
   "execution_count": 2,
   "id": "4935896d-58b7-419f-8467-61d57668f86d",
   "metadata": {},
   "outputs": [
    {
     "name": "stdout",
     "output_type": "stream",
     "text": [
      "<class 'int'>\n",
      "<class 'float'>\n",
      "<class 'str'>\n",
      "<class 'bool'>\n"
     ]
    }
   ],
   "source": [
    "# Day 1 Recap: Data Types\n",
    "\n",
    "print(type(5))       # int (whole number)\n",
    "print(type(5.3))     # float (decimal)\n",
    "print(type(\"hello\")) # str (string/text)\n",
    "print(type(True))    # bool (boolean True/False)"
   ]
  },
  {
   "cell_type": "code",
   "execution_count": 4,
   "id": "c3a305f7-a6a1-428f-80e1-cca0114fce69",
   "metadata": {},
   "outputs": [
    {
     "name": "stdout",
     "output_type": "stream",
     "text": [
      "P\n",
      "n\n",
      "Pyt\n",
      "PYTHON\n",
      "python\n",
      "Mython\n",
      "Hello, Laura!\n"
     ]
    }
   ],
   "source": [
    "# Day 1 Recap: Strings\n",
    "\n",
    "text = \"Python\"\n",
    "\n",
    "# Indexing\n",
    "print(text[0])    # first letter \n",
    "print(text[-1])   # fast letter\n",
    "\n",
    "# Slicing\n",
    "print(text[0:3])  # first three letters\n",
    "\n",
    "# String methods \n",
    "print(text.upper())  # all uppercase\n",
    "print(text.lower())   # all lowercase\n",
    "print(text.replace(\"Py\", \"My\"))  # replace part of string \n",
    "\n",
    "# f-string formatting \n",
    "name = \"Laura\"\n",
    "print(f\"Hello, {name}!\")"
   ]
  },
  {
   "cell_type": "code",
   "execution_count": 5,
   "id": "24d919c9-8214-417a-9b3f-7773cb512dea",
   "metadata": {},
   "outputs": [
    {
     "name": "stdout",
     "output_type": "stream",
     "text": [
      "My name is Laura, I am 30 years old, and I study Database Programming.\n"
     ]
    }
   ],
   "source": [
    "name = \"Laura\"\n",
    "age = 30\n",
    "college_major = \"Database Programming\"\n",
    "\n",
    "print(f\"My name is {name}, I am {age} years old, and I study {college_major}.\")"
   ]
  },
  {
   "cell_type": "code",
   "execution_count": 6,
   "id": "d94d7b2c-490f-43f1-b0c8-7bb66523ab6b",
   "metadata": {},
   "outputs": [
    {
     "name": "stdout",
     "output_type": "stream",
     "text": [
      "30years old\n"
     ]
    }
   ],
   "source": [
    "age = 30\n",
    "age_str = str(age)   # convert number -> string \n",
    "print(age_str + \"years old\")\n"
   ]
  },
  {
   "cell_type": "code",
   "execution_count": 7,
   "id": "9dea0f3b-d93a-410d-ade4-d37a2feb53f3",
   "metadata": {},
   "outputs": [
    {
     "name": "stdout",
     "output_type": "stream",
     "text": [
      "AI\n",
      "eer\n",
      "aiengineer\n"
     ]
    }
   ],
   "source": [
    "word = \"AIEngineer\"\n",
    "\n",
    "print (word[:2])\n",
    "print (word[-3:])\n",
    "print (word.lower())"
   ]
  },
  {
   "cell_type": "code",
   "execution_count": 11,
   "id": "c4f99618-791a-4c8b-b58d-1960a3fd28ff",
   "metadata": {},
   "outputs": [
    {
     "name": "stdout",
     "output_type": "stream",
     "text": [
      "Laura + Wifey\n"
     ]
    }
   ],
   "source": [
    "wife_name = \"Wifey\"\n",
    "print(f\"{name} + {wife_name}\")"
   ]
  },
  {
   "cell_type": "code",
   "execution_count": 13,
   "id": "9312963f-57eb-4a8c-930f-fedba72dc72f",
   "metadata": {},
   "outputs": [
    {
     "name": "stdout",
     "output_type": "stream",
     "text": [
      "[1, 2, 3, 4]\n",
      "1\n",
      "4\n",
      "[1, 2, 3, 4, 5]\n",
      "[1, 99, 2, 3, 4, 5]\n",
      "6\n"
     ]
    }
   ],
   "source": [
    "# Day 2: Lists \n",
    "\n",
    "numbers = [1,2,3,4]\n",
    "print(numbers)\n",
    "print(numbers[0])\n",
    "print(numbers[-1])\n",
    "\n",
    "numbers.append(5)  #add item at end\n",
    "print(numbers)\n",
    "\n",
    "numbers.insert(1, 99)  #insert at index 1\n",
    "print(numbers)\n",
    "\n",
    "print(len(numbers))    #length of list"
   ]
  },
  {
   "cell_type": "code",
   "execution_count": 15,
   "id": "e8cd97b2-da84-4408-a531-4db52135b04b",
   "metadata": {},
   "outputs": [
    {
     "name": "stdout",
     "output_type": "stream",
     "text": [
      "(10, 20)\n",
      "10\n",
      "20\n"
     ]
    }
   ],
   "source": [
    "# Day 2: Tubles\n",
    "\n",
    "coords = (10, 20)\n",
    "print(coords)\n",
    "print(coords[0])\n",
    "print(coords[1])"
   ]
  },
  {
   "cell_type": "code",
   "execution_count": 16,
   "id": "dc1c6b4a-0873-4ae1-870e-a5823e097d1b",
   "metadata": {},
   "outputs": [
    {
     "name": "stdout",
     "output_type": "stream",
     "text": [
      "{'name': 'Alice', 'age': 22}\n",
      "Alice\n",
      "22\n",
      "{'name': 'Alice', 'age': 22, 'grade': 95}\n",
      "{'name': 'Alice', 'age': 23, 'grade': 95}\n"
     ]
    }
   ],
   "source": [
    "# Day 2: Dictionaries\n",
    "\n",
    "student = {\"name\": \"Alice\", \"age\": 22}\n",
    "print(student)\n",
    "print(student [\"name\"])\n",
    "print(student.get(\"age\"))\n",
    "\n",
    "student[\"grade\"] = 95\n",
    "print(student)\n",
    "\n",
    "student[\"age\"] = 23\n",
    "print(student)\n"
   ]
  },
  {
   "cell_type": "code",
   "execution_count": 17,
   "id": "1686f000-8fcd-4255-82eb-00c57b47224b",
   "metadata": {},
   "outputs": [
    {
     "name": "stdout",
     "output_type": "stream",
     "text": [
      "{'apple', 'banana'}\n",
      "{'apple', 'banana', 'orange'}\n",
      "True\n",
      "False\n"
     ]
    }
   ],
   "source": [
    "# Day 2: Sets\n",
    "\n",
    "fruits = {\"apple\", \"banana\", \"apple\"}\n",
    "print(fruits)\n",
    "\n",
    "fruits.add(\"orange\")\n",
    "print(fruits)\n",
    "\n",
    "print(\"apple\" in fruits)\n",
    "print(\"grape\" in fruits)"
   ]
  },
  {
   "cell_type": "code",
   "execution_count": 18,
   "id": "f81dbf98-9758-4dd2-9e79-2819d62ac1f2",
   "metadata": {},
   "outputs": [
    {
     "name": "stdout",
     "output_type": "stream",
     "text": [
      "3\n",
      "5\n",
      "[1, 2, 3, 4, 5, 6]\n"
     ]
    }
   ],
   "source": [
    "numbers = [1, 2, 3, 4, 5]\n",
    "print(numbers[2])   \n",
    "print(numbers[4])   \n",
    "numbers.append(6)\n",
    "print(numbers)\n",
    "\n"
   ]
  },
  {
   "cell_type": "code",
   "execution_count": 19,
   "id": "cedf4c8b-26d0-43d7-a478-6235f46525d6",
   "metadata": {},
   "outputs": [
    {
     "name": "stdout",
     "output_type": "stream",
     "text": [
      "(170, 195)\n"
     ]
    }
   ],
   "source": [
    "height = (170, 195)\n",
    "print(height)\n"
   ]
  },
  {
   "cell_type": "code",
   "execution_count": 20,
   "id": "a83d63ac-213f-4098-bc22-8971497edea5",
   "metadata": {},
   "outputs": [
    {
     "name": "stdout",
     "output_type": "stream",
     "text": [
      "Height: 170 cm, Weight: 59 kg\n"
     ]
    }
   ],
   "source": [
    "height_weight = (170, 59)  # cm, kg\n",
    "print(f\"Height: {height_weight[0]} cm, Weight: {height_weight[1]} kg\")\n"
   ]
  },
  {
   "cell_type": "code",
   "execution_count": 21,
   "id": "551d6279-ab3a-4808-b454-a1e493e16d10",
   "metadata": {},
   "outputs": [
    {
     "name": "stdout",
     "output_type": "stream",
     "text": [
      "{'name': 'Laura', 'age': 30, 'goal': 'AI Engineer', 'major': 'Database Programming'}\n",
      "dict_values(['Laura', 30, 'AI Engineer', 'Database Programming'])\n"
     ]
    }
   ],
   "source": [
    "myself = {\"name\": \"Laura\", \"age\": 30, \"goal\": \"AI Engineer\"}\n",
    "myself[\"major\"] = \"Database Programming\"\n",
    "print(myself)\n",
    "print(myself.values())\n"
   ]
  },
  {
   "cell_type": "code",
   "execution_count": 22,
   "id": "62d7bd91-2ef0-4308-a06b-a8545be18448",
   "metadata": {},
   "outputs": [
    {
     "name": "stdout",
     "output_type": "stream",
     "text": [
      "{'Flash', 'Ferrari', 'Grand'}\n"
     ]
    }
   ],
   "source": [
    "pets = {\"Ferrari\", \"Grand\", \"Flash\", \"Ferrari\"}\n",
    "print(pets)\n"
   ]
  },
  {
   "cell_type": "code",
   "execution_count": null,
   "id": "36e97924-055b-4dbb-9c2f-50f277476799",
   "metadata": {},
   "outputs": [],
   "source": []
  }
 ],
 "metadata": {
  "kernelspec": {
   "display_name": "Python (ai-bootcamp)",
   "language": "python",
   "name": "ai-bootcamp"
  },
  "language_info": {
   "codemirror_mode": {
    "name": "ipython",
    "version": 3
   },
   "file_extension": ".py",
   "mimetype": "text/x-python",
   "name": "python",
   "nbconvert_exporter": "python",
   "pygments_lexer": "ipython3",
   "version": "3.13.5"
  }
 },
 "nbformat": 4,
 "nbformat_minor": 5
}
