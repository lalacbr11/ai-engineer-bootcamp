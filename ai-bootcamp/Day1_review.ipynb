{
 "cells": [
  {
   "cell_type": "markdown",
   "id": "a53e3516-074f-4730-a2f7-8638786c2268",
   "metadata": {},
   "source": [
    "# 📓 Day 1 Review – AI Engineer Bootcamp  \n",
    "\n",
    "## ✅ Achievements  \n",
    "- Set up **project folder structure** under `ai-engineer-bootcamp/`  \n",
    "  - Created `ai-bootcamp/` with `Day1.ipynb`, `day1_intro.py`, and `study_schedule.csv`  \n",
    "  - Added `.gitignore` rules (to ignore venv, cache, system files, and notebook checkpoints)  \n",
    "- Initialized **Git repository** and connected to GitHub  \n",
    "  - Fixed submodule mistake (added folder as project instead of nested repo)  \n",
    "  - Successfully pushed to remote repo: `lalacbr11/ai-engineer-bootcamp`  \n",
    "- Created and activated a **Python virtual environment (venv)**  \n",
    "  - Installed `pandas` and verified it works in script & Jupyter notebook  \n",
    "- Installed & launched **Jupyter Notebook**  \n",
    "  - Confirmed correct kernel: `ai-bootcamp`  \n",
    "\n",
    "---\n",
    "\n",
    "## ⚠️ Mistakes & Fixes  \n",
    "1. **Problem:** Confused `(base)` vs `(venv)` environment  \n",
    "   - ✔️ Fix: Only activate `ai-bootcamp/venv` inside the project folder  \n",
    "\n",
    "2. **Problem:** Accidentally created a nested Git repo (`submodule`)  \n",
    "   - ✔️ Fix: Removed `.git` inside `ai-bootcamp` and re-added files properly  \n",
    "\n",
    "3. **Problem:** Tried to run multiple commands in one terminal line  \n",
    "   - ✔️ Fix: Run commands one by one (no `# comments` inside terminal)  \n",
    "\n",
    "4. **Problem:** Tried writing README directly in terminal → errors with `zsh`  \n",
    "   - ✔️ Fix: Used `cat << 'EOF' ... EOF` for multiline text safely  \n",
    "\n",
    "---\n",
    "\n",
    "## 📝 What I Learned  \n",
    "- How to navigate project folders (`cd`, `ls`)  \n",
    "- How to activate/deactivate a **venv**  \n",
    "- Difference between **base (Conda)** and custom `venv`  \n",
    "- How to create `.gitignore` and keep repos clean  \n",
    "- First experience pushing code to GitHub & fixing errors  \n",
    "- How to use **Markdown cells** in Jupyter for formatted notes  \n",
    "\n",
    "---\n",
    "\n",
    "## 🚀 Next Steps  \n",
    "- Continue with **Python fundamentals** (data types, loops, functions)  \n",
    "- Practice **Jupyter Notebook workflow** (Markdown + Code cells)  \n",
    "- Begin small **pandas exercises** for Day 2–3\n",
    "\n",
    "## Reflection\n",
    "- I struggled with Git submodules but fixed it.\n",
    "- Learned how to separate base vs venv environments.\n",
    "- Now I understand how to structure my repo better.\n",
    "- Next time I want to be faster with README editing.\n",
    "\n"
   ]
  }
 ],
 "metadata": {
  "kernelspec": {
   "display_name": "Python (ai-bootcamp)",
   "language": "python",
   "name": "ai-bootcamp"
  },
  "language_info": {
   "codemirror_mode": {
    "name": "ipython",
    "version": 3
   },
   "file_extension": ".py",
   "mimetype": "text/x-python",
   "name": "python",
   "nbconvert_exporter": "python",
   "pygments_lexer": "ipython3",
   "version": "3.13.5"
  }
 },
 "nbformat": 4,
 "nbformat_minor": 5
}
