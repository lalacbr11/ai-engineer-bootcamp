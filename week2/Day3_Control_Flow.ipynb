{
 "cells": [
  {
   "cell_type": "markdown",
   "id": "1c7ca907-261a-4c11-8d22-b61ddf4e9e17",
   "metadata": {},
   "source": [
    "# Day 3 — Control Flow\n",
    "Author: Laura  \n",
    "Date: 2025-08-28\n"
   ]
  },
  {
   "cell_type": "code",
   "execution_count": 2,
   "id": "385a65f7-fff1-4d1b-be37-295a666aabb1",
   "metadata": {},
   "outputs": [
    {
     "name": "stdout",
     "output_type": "stream",
     "text": [
      "You are an adult.\n"
     ]
    }
   ],
   "source": [
    "# Day 3: Control Flow \n",
    "# If/ Elif/ Else example\n",
    "\n",
    "age = 20 \n",
    "\n",
    "if age < 18: \n",
    "    print(\"You are a minor.\")\n",
    "elif age < 65: \n",
    "    print(\"You are an adult.\")\n",
    "else:\n",
    "    print(\"You are a senior.\")\n",
    "    "
   ]
  },
  {
   "cell_type": "code",
   "execution_count": 3,
   "id": "4db1a111-9588-4566-b374-917cf8841b18",
   "metadata": {},
   "outputs": [
    {
     "name": "stdout",
     "output_type": "stream",
     "text": [
      "Warm!\n"
     ]
    }
   ],
   "source": [
    "temperature = 30\n",
    "\n",
    "if temperature < 0: \n",
    "    print(\"Freezing!\")\n",
    "elif temperature < 20:\n",
    "    print(\"Cold!\")\n",
    "else:\n",
    "    print(\"Warm!\")\n",
    "    "
   ]
  },
  {
   "cell_type": "code",
   "execution_count": 5,
   "id": "9460e638-15e8-4cf2-9b80-f4172cb697c9",
   "metadata": {},
   "outputs": [
    {
     "name": "stdout",
     "output_type": "stream",
     "text": [
      "B\n"
     ]
    }
   ],
   "source": [
    "grade = 85\n",
    "\n",
    "if grade >= 90: \n",
    "    print(\"A\")\n",
    "elif grade >= 80:\n",
    "    print(\"B\")\n",
    "else: \n",
    "    print(\"Needs improvement\")"
   ]
  },
  {
   "cell_type": "code",
   "execution_count": 6,
   "id": "1a28ddcd-d44b-4d35-b611-f19df4ef8622",
   "metadata": {},
   "outputs": [
    {
     "name": "stdout",
     "output_type": "stream",
     "text": [
      "Number: 1\n",
      "Number: 2\n",
      "Number: 3\n",
      "Number: 4\n",
      "Number: 5\n"
     ]
    }
   ],
   "source": [
    "# Day 3: For Loops\n",
    "\n",
    "for number in [1, 2, 3, 4, 5]:\n",
    "    print(\"Number:\", number)"
   ]
  },
  {
   "cell_type": "code",
   "execution_count": 8,
   "id": "bc68af36-bd34-4de7-bace-ddb57b6ed082",
   "metadata": {},
   "outputs": [
    {
     "name": "stdout",
     "output_type": "stream",
     "text": [
      "I love Ferrari\n",
      "I love Flash\n",
      "I love Grand\n"
     ]
    }
   ],
   "source": [
    "for pet_name in [\"Ferrari\", \"Flash\", \"Grand\"]:\n",
    "    print(f\"I love {pet_name}\")\n"
   ]
  },
  {
   "cell_type": "code",
   "execution_count": 10,
   "id": "c54898c4-5884-405f-bdd1-4f6750139a83",
   "metadata": {},
   "outputs": [
    {
     "name": "stdout",
     "output_type": "stream",
     "text": [
      "1 is odd\n",
      "2 is even\n",
      "3 is odd\n",
      "4 is even\n",
      "5 is odd\n",
      "6 is even\n",
      "7 is odd\n",
      "8 is even\n",
      "9 is odd\n",
      "10 is even\n"
     ]
    }
   ],
   "source": [
    "for number in range (1, 11):\n",
    "    \n",
    "    if number % 2 == 0: \n",
    "        print(number, \"is even\")\n",
    "    else: \n",
    "        print(number, \"is odd\")\n",
    "        "
   ]
  },
  {
   "cell_type": "code",
   "execution_count": 11,
   "id": "a86a9868-1a8d-415c-ad42-a71efd15af38",
   "metadata": {},
   "outputs": [
    {
     "name": "stdout",
     "output_type": "stream",
     "text": [
      "Count is: 1\n",
      "Count is: 2\n",
      "Count is: 3\n",
      "Count is: 4\n",
      "Count is: 5\n"
     ]
    }
   ],
   "source": [
    "# Day 3: While Loops\n",
    "\n",
    "count = 1 \n",
    "while count <= 5: \n",
    "    print(\"Count is:\", count)\n",
    "    count += 1 "
   ]
  },
  {
   "cell_type": "code",
   "execution_count": 12,
   "id": "27db565c-2f33-43e1-af61-3ef90113e2a8",
   "metadata": {},
   "outputs": [
    {
     "name": "stdout",
     "output_type": "stream",
     "text": [
      "5\n",
      "4\n",
      "3\n",
      "2\n",
      "1\n",
      "Blast off!\n"
     ]
    }
   ],
   "source": [
    "countdown = 5 \n",
    "while countdown > 0:\n",
    "    print(countdown)\n",
    "    countdown -= 1\n",
    "print(\"Blast off!\")"
   ]
  },
  {
   "cell_type": "code",
   "execution_count": 13,
   "id": "488d796f-1c88-40b3-81b3-4e81e8e2e83a",
   "metadata": {},
   "outputs": [
    {
     "name": "stdout",
     "output_type": "stream",
     "text": [
      "Number: 1\n",
      "Number: 2\n",
      "Number: 3\n",
      "Number: 4\n",
      "Stopped at: 5\n",
      "Number: 1\n",
      "Number: 2\n",
      "Number: 4\n",
      "Number: 5\n"
     ]
    }
   ],
   "source": [
    "# Day 3: Break and Continue\n",
    "\n",
    "# Break example\n",
    "for number in range(1, 10):\n",
    "    if number == 5:\n",
    "        print(\"Stopped at:\", number)\n",
    "        break\n",
    "    print(\"Number:\", number)\n",
    "\n",
    "# Continue example\n",
    "for number in range(1, 6):\n",
    "    if number == 3: \n",
    "        continue \n",
    "    print(\"Number:\", number)"
   ]
  },
  {
   "cell_type": "code",
   "execution_count": null,
   "id": "66cc8b14-80e5-4e25-8b25-aa308cc75128",
   "metadata": {},
   "outputs": [],
   "source": []
  }
 ],
 "metadata": {
  "kernelspec": {
   "display_name": "Python (ai-bootcamp)",
   "language": "python",
   "name": "ai-bootcamp"
  },
  "language_info": {
   "codemirror_mode": {
    "name": "ipython",
    "version": 3
   },
   "file_extension": ".py",
   "mimetype": "text/x-python",
   "name": "python",
   "nbconvert_exporter": "python",
   "pygments_lexer": "ipython3",
   "version": "3.13.5"
  }
 },
 "nbformat": 4,
 "nbformat_minor": 5
}
