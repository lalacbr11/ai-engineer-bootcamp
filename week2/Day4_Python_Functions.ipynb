{
 "cells": [
  {
   "cell_type": "markdown",
   "id": "f3498a3a-565b-4d4d-8aa7-f3fa77dfa7c7",
   "metadata": {},
   "source": [
    "Day 4 — Fucntions\n",
    "\n",
    "Author: Laura\n",
    "Date: 2025-09-02\n"
   ]
  },
  {
   "cell_type": "code",
   "execution_count": 1,
   "id": "5db8446f-aaf6-4b90-8f8c-e7124784509e",
   "metadata": {},
   "outputs": [
    {
     "name": "stdout",
     "output_type": "stream",
     "text": [
      "Hello, Laura! Welcome back to Python functions.\n"
     ]
    }
   ],
   "source": [
    "# Day 4: Functions — Step 1\n",
    "\n",
    "def greet():\n",
    "    print(\"Hello, Laura! Welcome back to Python functions.\")\n",
    "\n",
    "# Call the function\n",
    "greet()\n"
   ]
  },
  {
   "cell_type": "markdown",
   "id": "48eddac8-2be9-4982-ae04-afb62c2570cc",
   "metadata": {},
   "source": [
    "def --> keyword to define a function\n",
    "greet --> name of the function\n",
    "() --> parentheses (can hold parameters, but empty here)\n",
    ": --> ends the function header\n",
    "print(\"...\") --> body of function (indented)\n",
    "greet () --> execute function"
   ]
  },
  {
   "cell_type": "code",
   "execution_count": 3,
   "id": "3e7e78c1-b06a-446f-bd1a-78a370a84321",
   "metadata": {},
   "outputs": [
    {
     "name": "stdout",
     "output_type": "stream",
     "text": [
      "Hello, Laura!\n",
      "Hello, Adele!\n"
     ]
    }
   ],
   "source": [
    "# Day 4: Fucntions with Parameters\n",
    "\n",
    "def greet_name(name):\n",
    "    print(f\"Hello, {name}!\")\n",
    "\n",
    "greet_name(\"Laura\")\n",
    "greet_name(\"Adele\")"
   ]
  },
  {
   "cell_type": "markdown",
   "id": "e0abfbb9-fc9c-471f-9d32-cd8850b76952",
   "metadata": {},
   "source": [
    "Parameters are variables I pass into a function\n",
    "name --> is a parameter\n",
    "calling greet_name(\"Laura\") prints: Hello, Laura!"
   ]
  },
  {
   "cell_type": "code",
   "execution_count": 4,
   "id": "e46addd6-faf3-4be1-a6a6-38b42f6eb6cb",
   "metadata": {},
   "outputs": [
    {
     "name": "stdout",
     "output_type": "stream",
     "text": [
      "12\n"
     ]
    }
   ],
   "source": [
    "# Day 4: Functions with Return Values\n",
    "\n",
    "def add(a, b):\n",
    "    return a + b\n",
    "\n",
    "result = add (5, 7)\n",
    "print(result)"
   ]
  },
  {
   "cell_type": "markdown",
   "id": "592b99c3-821c-47d7-9656-36caae5151c1",
   "metadata": {},
   "source": [
    "return sends a value back to the caller\n",
    "print can be stored in a variable or used later"
   ]
  },
  {
   "cell_type": "code",
   "execution_count": 5,
   "id": "050d01e5-ba19-425b-bf51-ac260a6076d5",
   "metadata": {},
   "outputs": [
    {
     "name": "stdout",
     "output_type": "stream",
     "text": [
      "Welcome, Guest!\n",
      "Welcome, Laura!\n"
     ]
    }
   ],
   "source": [
    "# Day 4: Default Parameters\n",
    "\n",
    "def greet_person(name = \"Guest\"):\n",
    "    print(f\"Welcome, {name}!\")\n",
    "\n",
    "greet_person ()\n",
    "greet_person(\"Laura\")"
   ]
  },
  {
   "cell_type": "markdown",
   "id": "abee97ff-cfcb-4bf4-802f-45e919a72c70",
   "metadata": {},
   "source": [
    "if no argument is passed, the default (\"Guest\") is used\n",
    "--> can be used for optional arguments "
   ]
  },
  {
   "cell_type": "code",
   "execution_count": 7,
   "id": "47ea35a7-4edc-4181-be12-999d459ebd32",
   "metadata": {},
   "outputs": [
    {
     "name": "stdout",
     "output_type": "stream",
     "text": [
      "Hello World!\n"
     ]
    }
   ],
   "source": [
    "def say_hello():\n",
    "    print(\"Hello World!\")\n",
    "\n",
    "say_hello()"
   ]
  },
  {
   "cell_type": "code",
   "execution_count": 8,
   "id": "d05776f9-81c4-4f12-9c49-80ffbe86f320",
   "metadata": {},
   "outputs": [
    {
     "name": "stdout",
     "output_type": "stream",
     "text": [
      "Laura's favorite food is Steak.\n",
      "Adele's favorite food is Fish and Chips.\n"
     ]
    }
   ],
   "source": [
    "def favorite_food(name, food):\n",
    "    print(f\"{name}'s favorite food is {food}.\")\n",
    "\n",
    "favorite_food(\"Laura\", \"Steak\")\n",
    "favorite_food(\"Adele\", \"Fish and Chips\")"
   ]
  },
  {
   "cell_type": "code",
   "execution_count": 9,
   "id": "6dd5776a-2882-43ff-b400-2e7d0e13d848",
   "metadata": {},
   "outputs": [
    {
     "name": "stdout",
     "output_type": "stream",
     "text": [
      "16\n",
      "81\n"
     ]
    }
   ],
   "source": [
    "def square(number): \n",
    "    return number ** 2\n",
    "\n",
    "print(square (4))\n",
    "print(square (9))"
   ]
  },
  {
   "cell_type": "code",
   "execution_count": 10,
   "id": "310b4742-94dd-4c98-b4b8-a4d97de05b58",
   "metadata": {},
   "outputs": [
    {
     "name": "stdout",
     "output_type": "stream",
     "text": [
      "Welcome, Guest!\n",
      "Welcome, Laura!\n"
     ]
    }
   ],
   "source": [
    "def welcome(name = \"Guest\"):\n",
    "    print(f\"Welcome, {name}!\")\n",
    "\n",
    "welcome()\n",
    "welcome(\"Laura\")"
   ]
  },
  {
   "cell_type": "code",
   "execution_count": 11,
   "id": "dfcb028e-77bb-438a-a5de-95d8efe867f3",
   "metadata": {},
   "outputs": [
    {
     "name": "stdout",
     "output_type": "stream",
     "text": [
      "Sum: 7\n",
      "Product: 12\n"
     ]
    }
   ],
   "source": [
    "def sum_and_product (a,b):\n",
    "    return a + b, a * b\n",
    "\n",
    "s, p = sum_and_product (3, 4)\n",
    "print(\"Sum:\", s)\n",
    "print(\"Product:\", p)"
   ]
  },
  {
   "cell_type": "code",
   "execution_count": 13,
   "id": "8a374c54-aae2-4171-9554-508e497fabda",
   "metadata": {},
   "outputs": [
    {
     "name": "stdout",
     "output_type": "stream",
     "text": [
      "Odd\n",
      "Even\n"
     ]
    }
   ],
   "source": [
    "def even_or_odd (number):\n",
    "    if number % 2 == 0: \n",
    "        return \"Even\"\n",
    "    else: \n",
    "        return \"Odd\"\n",
    "\n",
    "print(even_or_odd (3))\n",
    "print(even_or_odd (10))"
   ]
  },
  {
   "cell_type": "code",
   "execution_count": 14,
   "id": "9c20b111-40fb-4abf-938a-67583af79cb2",
   "metadata": {},
   "outputs": [
    {
     "name": "stdout",
     "output_type": "stream",
     "text": [
      "A\n",
      "B\n",
      "C\n",
      "D\n",
      "F\n"
     ]
    }
   ],
   "source": [
    "def calculate_grade(score):\n",
    "    if 90 <= score <= 100: \n",
    "        return \"A\"\n",
    "    elif 80 <= score <= 89:\n",
    "        return \"B\"\n",
    "    elif 70 <= score <= 79:\n",
    "        return \"C\"\n",
    "    elif 60 <= score <= 69:\n",
    "        return \"D\"\n",
    "    else: \n",
    "        return \"F\"\n",
    "\n",
    "print(calculate_grade(96))  \n",
    "print(calculate_grade(85))  \n",
    "print(calculate_grade(72)) \n",
    "print(calculate_grade(65))  \n",
    "print(calculate_grade(30))  "
   ]
  },
  {
   "cell_type": "markdown",
   "id": "54ff9e45-6914-4fe1-a177-af500864ef4e",
   "metadata": {},
   "source": [
    "# 🎯 Final Challenge: Calculate Grade Function  \n",
    "\n",
    "## ❌ My First Attempt  \n",
    "\n",
    "```python\n",
    "def calculate_grade (grade = \"Letter\"):\n",
    "    print(calculate_grade (96))\n",
    "    print(calculate_grade (30))\n",
    "Letter = calculate_grade ():\n",
    "90 - 100 = \"A\"\n",
    "80 - 89 = \"B\"\n",
    "70 - 79 = \"C\"\n",
    "60 - 60 = \"D\"\n",
    "below 60 = \"F\"\n",
    "\n",
    "What Went Wrong\n",
    "\n",
    "Function definition\n",
    "\n",
    "I used grade = \"Letter\" as a default parameter.\n",
    "\n",
    "But what I actually need is the student’s score as input.\n",
    "\n",
    "Recursive call\n",
    "\n",
    "Inside the function, I called calculate_grade(96) → this made the function call itself endlessly.\n",
    "\n",
    "Conditions\n",
    "\n",
    "I wrote 90 - 100 = \"A\", but Python doesn’t understand that.\n",
    "\n",
    "To check ranges, I must use if, elif, and else.\n",
    "\n",
    "\n",
    "\n",
    "## ✅ Corrected Version\n",
    "\n",
    "def calculate_grade(score):\n",
    "    if 90 <= score <= 100:\n",
    "        return \"A\"\n",
    "    elif 80 <= score <= 89:\n",
    "        return \"B\"\n",
    "    elif 70 <= score <= 79:\n",
    "        return \"C\"\n",
    "    elif 60 <= score <= 69:\n",
    "        return \"D\"\n",
    "    else:\n",
    "        return \"F\"\n",
    "\n",
    "## 🔹 Testing the Function\n",
    "\n",
    "print(calculate_grade(96))  # A\n",
    "print(calculate_grade(85))  # B\n",
    "print(calculate_grade(72))  # C\n",
    "print(calculate_grade(65))  # D\n",
    "print(calculate_grade(30))  # F\n",
    "\n",
    "\n",
    "## ✅ Output:\n",
    "A\n",
    "B\n",
    "C\n",
    "D\n",
    "F\n",
    "\n",
    "\n",
    "## 💡 Lessons Learned\n",
    "\n",
    "Use parameters that match the input (score, not “Letter”).\n",
    "\n",
    "Avoid calling the same function inside itself unless you are doing recursion.\n",
    "\n",
    "Use if / elif / else to check ranges, like:\n",
    "if 90 <= score <= 100:\n",
    "    return \"A\"\n",
    "\n",
    "---\n",
    "\n"
   ]
  }
 ],
 "metadata": {
  "kernelspec": {
   "display_name": "Python (ai-bootcamp)",
   "language": "python",
   "name": "ai-bootcamp"
  },
  "language_info": {
   "codemirror_mode": {
    "name": "ipython",
    "version": 3
   },
   "file_extension": ".py",
   "mimetype": "text/x-python",
   "name": "python",
   "nbconvert_exporter": "python",
   "pygments_lexer": "ipython3",
   "version": "3.13.5"
  }
 },
 "nbformat": 4,
 "nbformat_minor": 5
}
